{
 "cells": [
  {
   "cell_type": "markdown",
   "metadata": {},
   "source": [
    "## Breast Cancer Dataset"
   ]
  },
  {
   "cell_type": "code",
   "execution_count": 1,
   "metadata": {},
   "outputs": [],
   "source": [
    "#Import and install the libraries needed for model development\n",
    "import pandas as pd\n",
    "from sklearn.tree import DecisionTreeClassifier\n",
    "from sklearn.model_selection import train_test_split, GridSearchCV\n",
    "from sklearn.metrics import make_scorer,classification_report, recall_score, roc_auc_score, f1_score\n",
    "from sklearn.metrics import plot_confusion_matrix\n",
    "import matplotlib.pyplot as plt\n",
    "from sklearn import tree\n",
    "import warnings\n",
    "warnings.filterwarnings(\"ignore\")\n",
    "warnings.filterwarnings(\"ignore\", category=UserWarning)\n",
    "from sklearn.model_selection import KFold, cross_val_score\n",
    "from sklearn.tree import DecisionTreeClassifier\n",
    "from sklearn.neighbors import KNeighborsClassifier\n",
    "from sklearn.linear_model import LogisticRegression\n",
    "from sklearn.svm import SVC"
   ]
  },
  {
   "cell_type": "code",
   "execution_count": 2,
   "metadata": {},
   "outputs": [],
   "source": [
    "#Replacing the space from column names and changing M - 1 and B - 0 \n",
    "df = pd.read_csv('wdbc.csv', header = 0)\n",
    "df.columns = df.columns.str.replace(' ', '')\n",
    "\n",
    "def diagnose(x):\n",
    "    if x == 'M':\n",
    "        x = 1\n",
    "    else:\n",
    "        x = 0\n",
    "    return x"
   ]
  },
  {
   "cell_type": "code",
   "execution_count": 3,
   "metadata": {},
   "outputs": [],
   "source": [
    "df['target'] = df['target'].apply(lambda x :diagnose(x))"
   ]
  },
  {
   "cell_type": "code",
   "execution_count": 4,
   "metadata": {},
   "outputs": [
    {
     "data": {
      "text/plain": [
       "id                             0\n",
       "target                         0\n",
       "mean_radius                    0\n",
       "mean_texture                   0\n",
       "mean_perimeter                 0\n",
       "mean_area                      0\n",
       "mean_smoothness                0\n",
       "mean_compactness               0\n",
       "mean_concavity                 0\n",
       "mean_concave_points            0\n",
       "mean_symmetry                  0\n",
       "mean_fractal_dimension         0\n",
       "std_error_radius               0\n",
       "std_error_texture              0\n",
       "std_error_perimeter            0\n",
       "std_error_area                 0\n",
       "std_error_smoothness           0\n",
       "std_error_compactness          0\n",
       "std_error_concavity            0\n",
       "std_error_concave_points       0\n",
       "std_error_symmetry             0\n",
       "std_error_fractal_dimension    0\n",
       "worst_radius                   0\n",
       "worst_texture                  0\n",
       "worst_perimeter                0\n",
       "worst_area                     0\n",
       "worst_smoothness               0\n",
       "worst_compactness              0\n",
       "worst_concavity                0\n",
       "worst_concave_points           0\n",
       "worst_symmetry                 0\n",
       "worst_fractal_dimension        0\n",
       "dtype: int64"
      ]
     },
     "execution_count": 4,
     "metadata": {},
     "output_type": "execute_result"
    }
   ],
   "source": [
    "#Check for null values \n",
    "df.isnull().sum()"
   ]
  },
  {
   "cell_type": "code",
   "execution_count": 5,
   "metadata": {},
   "outputs": [
    {
     "data": {
      "text/html": [
       "<div>\n",
       "<style scoped>\n",
       "    .dataframe tbody tr th:only-of-type {\n",
       "        vertical-align: middle;\n",
       "    }\n",
       "\n",
       "    .dataframe tbody tr th {\n",
       "        vertical-align: top;\n",
       "    }\n",
       "\n",
       "    .dataframe thead th {\n",
       "        text-align: right;\n",
       "    }\n",
       "</style>\n",
       "<table border=\"1\" class=\"dataframe\">\n",
       "  <thead>\n",
       "    <tr style=\"text-align: right;\">\n",
       "      <th></th>\n",
       "      <th>id</th>\n",
       "      <th>target</th>\n",
       "      <th>mean_radius</th>\n",
       "      <th>mean_texture</th>\n",
       "      <th>mean_perimeter</th>\n",
       "      <th>mean_area</th>\n",
       "      <th>mean_smoothness</th>\n",
       "      <th>mean_compactness</th>\n",
       "      <th>mean_concavity</th>\n",
       "      <th>mean_concave_points</th>\n",
       "      <th>...</th>\n",
       "      <th>worst_radius</th>\n",
       "      <th>worst_texture</th>\n",
       "      <th>worst_perimeter</th>\n",
       "      <th>worst_area</th>\n",
       "      <th>worst_smoothness</th>\n",
       "      <th>worst_compactness</th>\n",
       "      <th>worst_concavity</th>\n",
       "      <th>worst_concave_points</th>\n",
       "      <th>worst_symmetry</th>\n",
       "      <th>worst_fractal_dimension</th>\n",
       "    </tr>\n",
       "  </thead>\n",
       "  <tbody>\n",
       "    <tr>\n",
       "      <th>count</th>\n",
       "      <td>5.690000e+02</td>\n",
       "      <td>569.000000</td>\n",
       "      <td>569.000000</td>\n",
       "      <td>569.000000</td>\n",
       "      <td>569.000000</td>\n",
       "      <td>569.000000</td>\n",
       "      <td>569.000000</td>\n",
       "      <td>569.000000</td>\n",
       "      <td>569.000000</td>\n",
       "      <td>569.000000</td>\n",
       "      <td>...</td>\n",
       "      <td>569.000000</td>\n",
       "      <td>569.000000</td>\n",
       "      <td>569.000000</td>\n",
       "      <td>569.000000</td>\n",
       "      <td>569.000000</td>\n",
       "      <td>569.000000</td>\n",
       "      <td>569.000000</td>\n",
       "      <td>569.000000</td>\n",
       "      <td>569.000000</td>\n",
       "      <td>569.000000</td>\n",
       "    </tr>\n",
       "    <tr>\n",
       "      <th>mean</th>\n",
       "      <td>3.037183e+07</td>\n",
       "      <td>0.372583</td>\n",
       "      <td>14.127292</td>\n",
       "      <td>19.289649</td>\n",
       "      <td>91.969033</td>\n",
       "      <td>654.889104</td>\n",
       "      <td>0.096360</td>\n",
       "      <td>0.104341</td>\n",
       "      <td>0.088799</td>\n",
       "      <td>0.048919</td>\n",
       "      <td>...</td>\n",
       "      <td>16.269190</td>\n",
       "      <td>25.677223</td>\n",
       "      <td>107.261213</td>\n",
       "      <td>880.583128</td>\n",
       "      <td>0.132369</td>\n",
       "      <td>0.254265</td>\n",
       "      <td>0.272188</td>\n",
       "      <td>0.114606</td>\n",
       "      <td>0.290076</td>\n",
       "      <td>0.083946</td>\n",
       "    </tr>\n",
       "    <tr>\n",
       "      <th>std</th>\n",
       "      <td>1.250206e+08</td>\n",
       "      <td>0.483918</td>\n",
       "      <td>3.524049</td>\n",
       "      <td>4.301036</td>\n",
       "      <td>24.298981</td>\n",
       "      <td>351.914129</td>\n",
       "      <td>0.014064</td>\n",
       "      <td>0.052813</td>\n",
       "      <td>0.079720</td>\n",
       "      <td>0.038803</td>\n",
       "      <td>...</td>\n",
       "      <td>4.833242</td>\n",
       "      <td>6.146258</td>\n",
       "      <td>33.602542</td>\n",
       "      <td>569.356993</td>\n",
       "      <td>0.022832</td>\n",
       "      <td>0.157336</td>\n",
       "      <td>0.208624</td>\n",
       "      <td>0.065732</td>\n",
       "      <td>0.061867</td>\n",
       "      <td>0.018061</td>\n",
       "    </tr>\n",
       "    <tr>\n",
       "      <th>min</th>\n",
       "      <td>8.670000e+03</td>\n",
       "      <td>0.000000</td>\n",
       "      <td>6.981000</td>\n",
       "      <td>9.710000</td>\n",
       "      <td>43.790000</td>\n",
       "      <td>143.500000</td>\n",
       "      <td>0.052630</td>\n",
       "      <td>0.019380</td>\n",
       "      <td>0.000000</td>\n",
       "      <td>0.000000</td>\n",
       "      <td>...</td>\n",
       "      <td>7.930000</td>\n",
       "      <td>12.020000</td>\n",
       "      <td>50.410000</td>\n",
       "      <td>185.200000</td>\n",
       "      <td>0.071170</td>\n",
       "      <td>0.027290</td>\n",
       "      <td>0.000000</td>\n",
       "      <td>0.000000</td>\n",
       "      <td>0.156500</td>\n",
       "      <td>0.055040</td>\n",
       "    </tr>\n",
       "    <tr>\n",
       "      <th>25%</th>\n",
       "      <td>8.692180e+05</td>\n",
       "      <td>0.000000</td>\n",
       "      <td>11.700000</td>\n",
       "      <td>16.170000</td>\n",
       "      <td>75.170000</td>\n",
       "      <td>420.300000</td>\n",
       "      <td>0.086370</td>\n",
       "      <td>0.064920</td>\n",
       "      <td>0.029560</td>\n",
       "      <td>0.020310</td>\n",
       "      <td>...</td>\n",
       "      <td>13.010000</td>\n",
       "      <td>21.080000</td>\n",
       "      <td>84.110000</td>\n",
       "      <td>515.300000</td>\n",
       "      <td>0.116600</td>\n",
       "      <td>0.147200</td>\n",
       "      <td>0.114500</td>\n",
       "      <td>0.064930</td>\n",
       "      <td>0.250400</td>\n",
       "      <td>0.071460</td>\n",
       "    </tr>\n",
       "    <tr>\n",
       "      <th>50%</th>\n",
       "      <td>9.060240e+05</td>\n",
       "      <td>0.000000</td>\n",
       "      <td>13.370000</td>\n",
       "      <td>18.840000</td>\n",
       "      <td>86.240000</td>\n",
       "      <td>551.100000</td>\n",
       "      <td>0.095870</td>\n",
       "      <td>0.092630</td>\n",
       "      <td>0.061540</td>\n",
       "      <td>0.033500</td>\n",
       "      <td>...</td>\n",
       "      <td>14.970000</td>\n",
       "      <td>25.410000</td>\n",
       "      <td>97.660000</td>\n",
       "      <td>686.500000</td>\n",
       "      <td>0.131300</td>\n",
       "      <td>0.211900</td>\n",
       "      <td>0.226700</td>\n",
       "      <td>0.099930</td>\n",
       "      <td>0.282200</td>\n",
       "      <td>0.080040</td>\n",
       "    </tr>\n",
       "    <tr>\n",
       "      <th>75%</th>\n",
       "      <td>8.813129e+06</td>\n",
       "      <td>1.000000</td>\n",
       "      <td>15.780000</td>\n",
       "      <td>21.800000</td>\n",
       "      <td>104.100000</td>\n",
       "      <td>782.700000</td>\n",
       "      <td>0.105300</td>\n",
       "      <td>0.130400</td>\n",
       "      <td>0.130700</td>\n",
       "      <td>0.074000</td>\n",
       "      <td>...</td>\n",
       "      <td>18.790000</td>\n",
       "      <td>29.720000</td>\n",
       "      <td>125.400000</td>\n",
       "      <td>1084.000000</td>\n",
       "      <td>0.146000</td>\n",
       "      <td>0.339100</td>\n",
       "      <td>0.382900</td>\n",
       "      <td>0.161400</td>\n",
       "      <td>0.317900</td>\n",
       "      <td>0.092080</td>\n",
       "    </tr>\n",
       "    <tr>\n",
       "      <th>max</th>\n",
       "      <td>9.113205e+08</td>\n",
       "      <td>1.000000</td>\n",
       "      <td>28.110000</td>\n",
       "      <td>39.280000</td>\n",
       "      <td>188.500000</td>\n",
       "      <td>2501.000000</td>\n",
       "      <td>0.163400</td>\n",
       "      <td>0.345400</td>\n",
       "      <td>0.426800</td>\n",
       "      <td>0.201200</td>\n",
       "      <td>...</td>\n",
       "      <td>36.040000</td>\n",
       "      <td>49.540000</td>\n",
       "      <td>251.200000</td>\n",
       "      <td>4254.000000</td>\n",
       "      <td>0.222600</td>\n",
       "      <td>1.058000</td>\n",
       "      <td>1.252000</td>\n",
       "      <td>0.291000</td>\n",
       "      <td>0.663800</td>\n",
       "      <td>0.207500</td>\n",
       "    </tr>\n",
       "  </tbody>\n",
       "</table>\n",
       "<p>8 rows × 32 columns</p>\n",
       "</div>"
      ],
      "text/plain": [
       "                 id      target  mean_radius  mean_texture  mean_perimeter  \\\n",
       "count  5.690000e+02  569.000000   569.000000    569.000000      569.000000   \n",
       "mean   3.037183e+07    0.372583    14.127292     19.289649       91.969033   \n",
       "std    1.250206e+08    0.483918     3.524049      4.301036       24.298981   \n",
       "min    8.670000e+03    0.000000     6.981000      9.710000       43.790000   \n",
       "25%    8.692180e+05    0.000000    11.700000     16.170000       75.170000   \n",
       "50%    9.060240e+05    0.000000    13.370000     18.840000       86.240000   \n",
       "75%    8.813129e+06    1.000000    15.780000     21.800000      104.100000   \n",
       "max    9.113205e+08    1.000000    28.110000     39.280000      188.500000   \n",
       "\n",
       "         mean_area  mean_smoothness  mean_compactness  mean_concavity  \\\n",
       "count   569.000000       569.000000        569.000000      569.000000   \n",
       "mean    654.889104         0.096360          0.104341        0.088799   \n",
       "std     351.914129         0.014064          0.052813        0.079720   \n",
       "min     143.500000         0.052630          0.019380        0.000000   \n",
       "25%     420.300000         0.086370          0.064920        0.029560   \n",
       "50%     551.100000         0.095870          0.092630        0.061540   \n",
       "75%     782.700000         0.105300          0.130400        0.130700   \n",
       "max    2501.000000         0.163400          0.345400        0.426800   \n",
       "\n",
       "       mean_concave_points  ...  worst_radius  worst_texture  worst_perimeter  \\\n",
       "count           569.000000  ...    569.000000     569.000000       569.000000   \n",
       "mean              0.048919  ...     16.269190      25.677223       107.261213   \n",
       "std               0.038803  ...      4.833242       6.146258        33.602542   \n",
       "min               0.000000  ...      7.930000      12.020000        50.410000   \n",
       "25%               0.020310  ...     13.010000      21.080000        84.110000   \n",
       "50%               0.033500  ...     14.970000      25.410000        97.660000   \n",
       "75%               0.074000  ...     18.790000      29.720000       125.400000   \n",
       "max               0.201200  ...     36.040000      49.540000       251.200000   \n",
       "\n",
       "        worst_area  worst_smoothness  worst_compactness  worst_concavity  \\\n",
       "count   569.000000        569.000000         569.000000       569.000000   \n",
       "mean    880.583128          0.132369           0.254265         0.272188   \n",
       "std     569.356993          0.022832           0.157336         0.208624   \n",
       "min     185.200000          0.071170           0.027290         0.000000   \n",
       "25%     515.300000          0.116600           0.147200         0.114500   \n",
       "50%     686.500000          0.131300           0.211900         0.226700   \n",
       "75%    1084.000000          0.146000           0.339100         0.382900   \n",
       "max    4254.000000          0.222600           1.058000         1.252000   \n",
       "\n",
       "       worst_concave_points  worst_symmetry  worst_fractal_dimension  \n",
       "count            569.000000      569.000000               569.000000  \n",
       "mean               0.114606        0.290076                 0.083946  \n",
       "std                0.065732        0.061867                 0.018061  \n",
       "min                0.000000        0.156500                 0.055040  \n",
       "25%                0.064930        0.250400                 0.071460  \n",
       "50%                0.099930        0.282200                 0.080040  \n",
       "75%                0.161400        0.317900                 0.092080  \n",
       "max                0.291000        0.663800                 0.207500  \n",
       "\n",
       "[8 rows x 32 columns]"
      ]
     },
     "execution_count": 5,
     "metadata": {},
     "output_type": "execute_result"
    }
   ],
   "source": [
    "#Get the summary of dataframe\n",
    "df.describe()"
   ]
  },
  {
   "cell_type": "code",
   "execution_count": 6,
   "metadata": {},
   "outputs": [],
   "source": [
    "#Extracting the independent and target variables\n",
    "X = df.iloc[:,2:]\n",
    "y = df.iloc[:,1]"
   ]
  },
  {
   "cell_type": "code",
   "execution_count": 7,
   "metadata": {
    "scrolled": true
   },
   "outputs": [
    {
     "data": {
      "text/html": [
       "<div>\n",
       "<style scoped>\n",
       "    .dataframe tbody tr th:only-of-type {\n",
       "        vertical-align: middle;\n",
       "    }\n",
       "\n",
       "    .dataframe tbody tr th {\n",
       "        vertical-align: top;\n",
       "    }\n",
       "\n",
       "    .dataframe thead th {\n",
       "        text-align: right;\n",
       "    }\n",
       "</style>\n",
       "<table border=\"1\" class=\"dataframe\">\n",
       "  <thead>\n",
       "    <tr style=\"text-align: right;\">\n",
       "      <th></th>\n",
       "      <th>mean_radius</th>\n",
       "      <th>mean_texture</th>\n",
       "      <th>mean_perimeter</th>\n",
       "      <th>mean_area</th>\n",
       "      <th>mean_smoothness</th>\n",
       "      <th>mean_compactness</th>\n",
       "      <th>mean_concavity</th>\n",
       "      <th>mean_concave_points</th>\n",
       "      <th>mean_symmetry</th>\n",
       "      <th>mean_fractal_dimension</th>\n",
       "      <th>...</th>\n",
       "      <th>worst_radius</th>\n",
       "      <th>worst_texture</th>\n",
       "      <th>worst_perimeter</th>\n",
       "      <th>worst_area</th>\n",
       "      <th>worst_smoothness</th>\n",
       "      <th>worst_compactness</th>\n",
       "      <th>worst_concavity</th>\n",
       "      <th>worst_concave_points</th>\n",
       "      <th>worst_symmetry</th>\n",
       "      <th>worst_fractal_dimension</th>\n",
       "    </tr>\n",
       "  </thead>\n",
       "  <tbody>\n",
       "    <tr>\n",
       "      <th>0</th>\n",
       "      <td>17.99</td>\n",
       "      <td>10.38</td>\n",
       "      <td>122.80</td>\n",
       "      <td>1001.0</td>\n",
       "      <td>0.11840</td>\n",
       "      <td>0.27760</td>\n",
       "      <td>0.3001</td>\n",
       "      <td>0.14710</td>\n",
       "      <td>0.2419</td>\n",
       "      <td>0.07871</td>\n",
       "      <td>...</td>\n",
       "      <td>25.38</td>\n",
       "      <td>17.33</td>\n",
       "      <td>184.60</td>\n",
       "      <td>2019.0</td>\n",
       "      <td>0.1622</td>\n",
       "      <td>0.6656</td>\n",
       "      <td>0.7119</td>\n",
       "      <td>0.2654</td>\n",
       "      <td>0.4601</td>\n",
       "      <td>0.11890</td>\n",
       "    </tr>\n",
       "    <tr>\n",
       "      <th>1</th>\n",
       "      <td>20.57</td>\n",
       "      <td>17.77</td>\n",
       "      <td>132.90</td>\n",
       "      <td>1326.0</td>\n",
       "      <td>0.08474</td>\n",
       "      <td>0.07864</td>\n",
       "      <td>0.0869</td>\n",
       "      <td>0.07017</td>\n",
       "      <td>0.1812</td>\n",
       "      <td>0.05667</td>\n",
       "      <td>...</td>\n",
       "      <td>24.99</td>\n",
       "      <td>23.41</td>\n",
       "      <td>158.80</td>\n",
       "      <td>1956.0</td>\n",
       "      <td>0.1238</td>\n",
       "      <td>0.1866</td>\n",
       "      <td>0.2416</td>\n",
       "      <td>0.1860</td>\n",
       "      <td>0.2750</td>\n",
       "      <td>0.08902</td>\n",
       "    </tr>\n",
       "    <tr>\n",
       "      <th>2</th>\n",
       "      <td>19.69</td>\n",
       "      <td>21.25</td>\n",
       "      <td>130.00</td>\n",
       "      <td>1203.0</td>\n",
       "      <td>0.10960</td>\n",
       "      <td>0.15990</td>\n",
       "      <td>0.1974</td>\n",
       "      <td>0.12790</td>\n",
       "      <td>0.2069</td>\n",
       "      <td>0.05999</td>\n",
       "      <td>...</td>\n",
       "      <td>23.57</td>\n",
       "      <td>25.53</td>\n",
       "      <td>152.50</td>\n",
       "      <td>1709.0</td>\n",
       "      <td>0.1444</td>\n",
       "      <td>0.4245</td>\n",
       "      <td>0.4504</td>\n",
       "      <td>0.2430</td>\n",
       "      <td>0.3613</td>\n",
       "      <td>0.08758</td>\n",
       "    </tr>\n",
       "    <tr>\n",
       "      <th>3</th>\n",
       "      <td>11.42</td>\n",
       "      <td>20.38</td>\n",
       "      <td>77.58</td>\n",
       "      <td>386.1</td>\n",
       "      <td>0.14250</td>\n",
       "      <td>0.28390</td>\n",
       "      <td>0.2414</td>\n",
       "      <td>0.10520</td>\n",
       "      <td>0.2597</td>\n",
       "      <td>0.09744</td>\n",
       "      <td>...</td>\n",
       "      <td>14.91</td>\n",
       "      <td>26.50</td>\n",
       "      <td>98.87</td>\n",
       "      <td>567.7</td>\n",
       "      <td>0.2098</td>\n",
       "      <td>0.8663</td>\n",
       "      <td>0.6869</td>\n",
       "      <td>0.2575</td>\n",
       "      <td>0.6638</td>\n",
       "      <td>0.17300</td>\n",
       "    </tr>\n",
       "    <tr>\n",
       "      <th>4</th>\n",
       "      <td>20.29</td>\n",
       "      <td>14.34</td>\n",
       "      <td>135.10</td>\n",
       "      <td>1297.0</td>\n",
       "      <td>0.10030</td>\n",
       "      <td>0.13280</td>\n",
       "      <td>0.1980</td>\n",
       "      <td>0.10430</td>\n",
       "      <td>0.1809</td>\n",
       "      <td>0.05883</td>\n",
       "      <td>...</td>\n",
       "      <td>22.54</td>\n",
       "      <td>16.67</td>\n",
       "      <td>152.20</td>\n",
       "      <td>1575.0</td>\n",
       "      <td>0.1374</td>\n",
       "      <td>0.2050</td>\n",
       "      <td>0.4000</td>\n",
       "      <td>0.1625</td>\n",
       "      <td>0.2364</td>\n",
       "      <td>0.07678</td>\n",
       "    </tr>\n",
       "  </tbody>\n",
       "</table>\n",
       "<p>5 rows × 30 columns</p>\n",
       "</div>"
      ],
      "text/plain": [
       "   mean_radius  mean_texture  mean_perimeter  mean_area  mean_smoothness  \\\n",
       "0        17.99         10.38          122.80     1001.0          0.11840   \n",
       "1        20.57         17.77          132.90     1326.0          0.08474   \n",
       "2        19.69         21.25          130.00     1203.0          0.10960   \n",
       "3        11.42         20.38           77.58      386.1          0.14250   \n",
       "4        20.29         14.34          135.10     1297.0          0.10030   \n",
       "\n",
       "   mean_compactness  mean_concavity  mean_concave_points  mean_symmetry  \\\n",
       "0           0.27760          0.3001              0.14710         0.2419   \n",
       "1           0.07864          0.0869              0.07017         0.1812   \n",
       "2           0.15990          0.1974              0.12790         0.2069   \n",
       "3           0.28390          0.2414              0.10520         0.2597   \n",
       "4           0.13280          0.1980              0.10430         0.1809   \n",
       "\n",
       "   mean_fractal_dimension  ...  worst_radius  worst_texture  worst_perimeter  \\\n",
       "0                 0.07871  ...         25.38          17.33           184.60   \n",
       "1                 0.05667  ...         24.99          23.41           158.80   \n",
       "2                 0.05999  ...         23.57          25.53           152.50   \n",
       "3                 0.09744  ...         14.91          26.50            98.87   \n",
       "4                 0.05883  ...         22.54          16.67           152.20   \n",
       "\n",
       "   worst_area  worst_smoothness  worst_compactness  worst_concavity  \\\n",
       "0      2019.0            0.1622             0.6656           0.7119   \n",
       "1      1956.0            0.1238             0.1866           0.2416   \n",
       "2      1709.0            0.1444             0.4245           0.4504   \n",
       "3       567.7            0.2098             0.8663           0.6869   \n",
       "4      1575.0            0.1374             0.2050           0.4000   \n",
       "\n",
       "   worst_concave_points  worst_symmetry  worst_fractal_dimension  \n",
       "0                0.2654          0.4601                  0.11890  \n",
       "1                0.1860          0.2750                  0.08902  \n",
       "2                0.2430          0.3613                  0.08758  \n",
       "3                0.2575          0.6638                  0.17300  \n",
       "4                0.1625          0.2364                  0.07678  \n",
       "\n",
       "[5 rows x 30 columns]"
      ]
     },
     "execution_count": 7,
     "metadata": {},
     "output_type": "execute_result"
    }
   ],
   "source": [
    "#Print first 5 rows for independent variables\n",
    "X.head()"
   ]
  },
  {
   "cell_type": "code",
   "execution_count": 8,
   "metadata": {},
   "outputs": [
    {
     "data": {
      "text/plain": [
       "array([1, 0], dtype=int64)"
      ]
     },
     "execution_count": 8,
     "metadata": {},
     "output_type": "execute_result"
    }
   ],
   "source": [
    "#Print first 5 for dependent variables\n",
    "y.head()\n",
    "y.unique()"
   ]
  },
  {
   "cell_type": "code",
   "execution_count": 9,
   "metadata": {},
   "outputs": [],
   "source": [
    "#Splitting the data set into training and testing data in 4:1 ration\n",
    "X_train, X_test, y_train, y_test = train_test_split(X, y, test_size = 0.2, random_state = 42)"
   ]
  },
  {
   "cell_type": "markdown",
   "metadata": {},
   "source": [
    "Min-Max Scaling is done to avoid dominance of particular variables on the prediction "
   ]
  },
  {
   "cell_type": "code",
   "execution_count": 10,
   "metadata": {},
   "outputs": [],
   "source": [
    "#Using normalisation\n",
    "from sklearn import preprocessing\n",
    "scaler = preprocessing.MinMaxScaler()\n",
    "scaler.fit(X_train)\n",
    "X_train = scaler.transform(X_train)\n",
    "X_test = scaler.transform(X_test)"
   ]
  },
  {
   "cell_type": "markdown",
   "metadata": {},
   "source": [
    "## Nested Cross Validation For Model Selection "
   ]
  },
  {
   "cell_type": "markdown",
   "metadata": {},
   "source": [
    "### With Recall as the performance evaluation metric "
   ]
  },
  {
   "cell_type": "code",
   "execution_count": 11,
   "metadata": {},
   "outputs": [],
   "source": [
    "scoring = 'recall'\n",
    "dt_cv_score = []\n",
    "knn_cv_score = []\n",
    "log_cv_score = []\n",
    "svc_cv_score = []\n",
    "\n",
    "N_TRIALS = 10\n",
    "for i in range(N_TRIALS):\n",
    "    inner_cv=KFold(n_splits=5,shuffle=True,random_state=100)\n",
    "    outer_cv=KFold(n_splits=5,shuffle=True,random_state=100)\n",
    "    dt = DecisionTreeClassifier(random_state=42)\n",
    "    dt_grid = {'max_depth':list(range(0,10)),'min_samples_leaf':[2, 3, 4], 'min_samples_split':[10, 20, 30], \n",
    "                 'criterion':['entropy','gini']}\n",
    "\n",
    "    knn = KNeighborsClassifier()\n",
    "    knn_grid = {'n_neighbors':list(range(2,8)), 'p':[1,2,3], 'weights':['uniform','distance']}\n",
    "    \n",
    "    log = LogisticRegression(random_state=42, multi_class = 'multinomial')\n",
    "    lr_grid = {'C': [0.001, 0.01, 0.05, 0.1,0.05, 1, 10, 100], 'penalty' : ['l1','l2'],'solver': ['lbfgs','liblinear','sag','saga','newton-cg']}\n",
    "\n",
    "    svc = SVC(random_state = 42, probability=True)\n",
    "    svc_grid = [{'kernel': ['rbf'], 'gamma': [0.1, 0.5],'C': [1, 10, 100, 1000]}, \n",
    "              {'kernel': ['linear'], 'C': [1, 10, 100, 1000]}]\n",
    "\n",
    "    dt_clf = GridSearchCV(estimator = dt, param_grid = dt_grid, cv = inner_cv, scoring = 'recall')\n",
    "    knn_clf = GridSearchCV(estimator = knn, param_grid = knn_grid, cv = inner_cv, scoring = 'recall')\n",
    "    svc_clf = GridSearchCV(estimator = svc, param_grid = svc_grid, cv=inner_cv, scoring = 'recall')\n",
    "    lr_clf = GridSearchCV(estimator = log, param_grid = lr_grid, cv = inner_cv, scoring = 'recall')\n",
    "    \n",
    "    dt_score=cross_val_score(dt_clf,X_train,y_train, cv = outer_cv)\n",
    "    dt_score = dt_score.mean()\n",
    "    dt_cv_score.append(dt_score.mean())    \n",
    "\n",
    "    knn_score=cross_val_score(knn_clf,X_train,y_train, cv = outer_cv)\n",
    "    knn_score = knn_score.mean()\n",
    "    knn_cv_score.append(knn_score.mean())    \n",
    "   \n",
    "    lr_score=cross_val_score(lr_clf,X_train,y_train, cv = outer_cv)\n",
    "    lr_score = lr_score.mean()\n",
    "    log_cv_score.append(lr_score.mean())\n",
    "        \n",
    "    svc_score=cross_val_score(svc_clf,X_train,y_train, cv = outer_cv)\n",
    "    svc_score = svc_score.mean()\n",
    "    svc_cv_score.append(svc_score.mean())\n",
    "        \n",
    "# print(\"Mean accuracy for training data set with cross validations for decision tree:\",dt_cv_score)\n",
    "# print(\"Mean accuracy for training data set with cross validations for KNN:\",knn_cv_score)\n",
    "# print(\"Mean accuracy for training data set with cross validations for logistic regression:\",log_cv_score)\n",
    "# print(\"Mean accuracy for training data set with cross validations for SVM:\",svc_cv_score)"
   ]
  },
  {
   "cell_type": "code",
   "execution_count": 12,
   "metadata": {},
   "outputs": [],
   "source": [
    "#Assign a function to calculate the mean of the accuracies \n",
    "def Average(lst):\n",
    "    return sum(lst) / len(lst)"
   ]
  },
  {
   "cell_type": "code",
   "execution_count": 13,
   "metadata": {},
   "outputs": [
    {
     "name": "stdout",
     "output_type": "stream",
     "text": [
      "Decision Tree Recall: 0.9202306412583182\n",
      "KNN Classifier Recall:  0.949627192982456\n",
      "LOgistic Regression:  0.9549236237144585\n",
      "Support Vector Machine Classifier:  0.9471937386569873\n"
     ]
    }
   ],
   "source": [
    "dt_avg = Average(dt_cv_score)\n",
    "knn_avg = Average(knn_cv_score)\n",
    "log_avg = Average(log_cv_score)\n",
    "svc_avg = Average(svc_cv_score)\n",
    "\n",
    "print(\"Decision Tree Recall:\",dt_avg)\n",
    "print(\"KNN Classifier Recall: \",knn_avg)\n",
    "print(\"LOgistic Regression: \",log_avg)\n",
    "print(\"Support Vector Machine Classifier: \",svc_avg)"
   ]
  },
  {
   "cell_type": "markdown",
   "metadata": {},
   "source": [
    "From the Nested Cross Validation results, it is observed that Logistic Regression performs the best out of all 4 models on \"recall\" as the scoring metric. "
   ]
  },
  {
   "cell_type": "markdown",
   "metadata": {},
   "source": [
    "## Hyper-Parameter Tuning for Logistic Regression Model "
   ]
  },
  {
   "cell_type": "code",
   "execution_count": 14,
   "metadata": {},
   "outputs": [],
   "source": [
    "log = LogisticRegression(random_state=42)\n",
    "parameters = {'C': [0.001, 0.01, 0.05, 0.1,0.05, 1, 10, 100], 'penalty' : ['l1','l2'],'solver': ['lbfgs','liblinear','sag','saga','newton-cg']}"
   ]
  },
  {
   "cell_type": "markdown",
   "metadata": {},
   "source": [
    "Hyper parameter tuning for precision and recall as scoring metrics separately"
   ]
  },
  {
   "cell_type": "code",
   "execution_count": 15,
   "metadata": {},
   "outputs": [
    {
     "name": "stdout",
     "output_type": "stream",
     "text": [
      "# Tuning hyper-parameters for precision\n",
      "\n",
      "Best parameters set found on development set:\n",
      "\n",
      "{'C': 10, 'penalty': 'l1', 'solver': 'saga'}\n",
      "\n",
      "Grid scores on development set:\n",
      "\n",
      "nan (+/-nan) for {'C': 0.001, 'penalty': 'l1', 'solver': 'lbfgs'}\n",
      "0.314 (+/-0.004) for {'C': 0.001, 'penalty': 'l1', 'solver': 'liblinear'}\n",
      "nan (+/-nan) for {'C': 0.001, 'penalty': 'l1', 'solver': 'sag'}\n",
      "0.314 (+/-0.004) for {'C': 0.001, 'penalty': 'l1', 'solver': 'saga'}\n",
      "nan (+/-nan) for {'C': 0.001, 'penalty': 'l1', 'solver': 'newton-cg'}\n",
      "0.314 (+/-0.004) for {'C': 0.001, 'penalty': 'l2', 'solver': 'lbfgs'}\n",
      "0.833 (+/-0.011) for {'C': 0.001, 'penalty': 'l2', 'solver': 'liblinear'}\n",
      "0.314 (+/-0.004) for {'C': 0.001, 'penalty': 'l2', 'solver': 'sag'}\n",
      "0.314 (+/-0.004) for {'C': 0.001, 'penalty': 'l2', 'solver': 'saga'}\n",
      "0.314 (+/-0.004) for {'C': 0.001, 'penalty': 'l2', 'solver': 'newton-cg'}\n",
      "nan (+/-nan) for {'C': 0.01, 'penalty': 'l1', 'solver': 'lbfgs'}\n",
      "0.314 (+/-0.004) for {'C': 0.01, 'penalty': 'l1', 'solver': 'liblinear'}\n",
      "nan (+/-nan) for {'C': 0.01, 'penalty': 'l1', 'solver': 'sag'}\n",
      "0.314 (+/-0.004) for {'C': 0.01, 'penalty': 'l1', 'solver': 'saga'}\n",
      "nan (+/-nan) for {'C': 0.01, 'penalty': 'l1', 'solver': 'newton-cg'}\n",
      "0.846 (+/-0.023) for {'C': 0.01, 'penalty': 'l2', 'solver': 'lbfgs'}\n",
      "0.911 (+/-0.027) for {'C': 0.01, 'penalty': 'l2', 'solver': 'liblinear'}\n",
      "0.846 (+/-0.023) for {'C': 0.01, 'penalty': 'l2', 'solver': 'sag'}\n",
      "0.846 (+/-0.023) for {'C': 0.01, 'penalty': 'l2', 'solver': 'saga'}\n",
      "0.846 (+/-0.023) for {'C': 0.01, 'penalty': 'l2', 'solver': 'newton-cg'}\n",
      "nan (+/-nan) for {'C': 0.05, 'penalty': 'l1', 'solver': 'lbfgs'}\n",
      "0.832 (+/-0.023) for {'C': 0.05, 'penalty': 'l1', 'solver': 'liblinear'}\n",
      "nan (+/-nan) for {'C': 0.05, 'penalty': 'l1', 'solver': 'sag'}\n",
      "0.886 (+/-0.022) for {'C': 0.05, 'penalty': 'l1', 'solver': 'saga'}\n",
      "nan (+/-nan) for {'C': 0.05, 'penalty': 'l1', 'solver': 'newton-cg'}\n",
      "0.936 (+/-0.017) for {'C': 0.05, 'penalty': 'l2', 'solver': 'lbfgs'}\n",
      "0.935 (+/-0.027) for {'C': 0.05, 'penalty': 'l2', 'solver': 'liblinear'}\n",
      "0.936 (+/-0.017) for {'C': 0.05, 'penalty': 'l2', 'solver': 'sag'}\n",
      "0.936 (+/-0.017) for {'C': 0.05, 'penalty': 'l2', 'solver': 'saga'}\n",
      "0.936 (+/-0.017) for {'C': 0.05, 'penalty': 'l2', 'solver': 'newton-cg'}\n",
      "nan (+/-nan) for {'C': 0.1, 'penalty': 'l1', 'solver': 'lbfgs'}\n",
      "0.931 (+/-0.051) for {'C': 0.1, 'penalty': 'l1', 'solver': 'liblinear'}\n",
      "nan (+/-nan) for {'C': 0.1, 'penalty': 'l1', 'solver': 'sag'}\n",
      "0.935 (+/-0.044) for {'C': 0.1, 'penalty': 'l1', 'solver': 'saga'}\n",
      "nan (+/-nan) for {'C': 0.1, 'penalty': 'l1', 'solver': 'newton-cg'}\n",
      "0.947 (+/-0.016) for {'C': 0.1, 'penalty': 'l2', 'solver': 'lbfgs'}\n",
      "0.939 (+/-0.028) for {'C': 0.1, 'penalty': 'l2', 'solver': 'liblinear'}\n",
      "0.947 (+/-0.016) for {'C': 0.1, 'penalty': 'l2', 'solver': 'sag'}\n",
      "0.947 (+/-0.016) for {'C': 0.1, 'penalty': 'l2', 'solver': 'saga'}\n",
      "0.947 (+/-0.016) for {'C': 0.1, 'penalty': 'l2', 'solver': 'newton-cg'}\n",
      "nan (+/-nan) for {'C': 0.05, 'penalty': 'l1', 'solver': 'lbfgs'}\n",
      "0.832 (+/-0.023) for {'C': 0.05, 'penalty': 'l1', 'solver': 'liblinear'}\n",
      "nan (+/-nan) for {'C': 0.05, 'penalty': 'l1', 'solver': 'sag'}\n",
      "0.886 (+/-0.022) for {'C': 0.05, 'penalty': 'l1', 'solver': 'saga'}\n",
      "nan (+/-nan) for {'C': 0.05, 'penalty': 'l1', 'solver': 'newton-cg'}\n",
      "0.936 (+/-0.017) for {'C': 0.05, 'penalty': 'l2', 'solver': 'lbfgs'}\n",
      "0.935 (+/-0.027) for {'C': 0.05, 'penalty': 'l2', 'solver': 'liblinear'}\n",
      "0.936 (+/-0.017) for {'C': 0.05, 'penalty': 'l2', 'solver': 'sag'}\n",
      "0.936 (+/-0.017) for {'C': 0.05, 'penalty': 'l2', 'solver': 'saga'}\n",
      "0.936 (+/-0.017) for {'C': 0.05, 'penalty': 'l2', 'solver': 'newton-cg'}\n",
      "nan (+/-nan) for {'C': 1, 'penalty': 'l1', 'solver': 'lbfgs'}\n",
      "0.969 (+/-0.036) for {'C': 1, 'penalty': 'l1', 'solver': 'liblinear'}\n",
      "nan (+/-nan) for {'C': 1, 'penalty': 'l1', 'solver': 'sag'}\n",
      "0.966 (+/-0.034) for {'C': 1, 'penalty': 'l1', 'solver': 'saga'}\n",
      "nan (+/-nan) for {'C': 1, 'penalty': 'l1', 'solver': 'newton-cg'}\n",
      "0.969 (+/-0.023) for {'C': 1, 'penalty': 'l2', 'solver': 'lbfgs'}\n",
      "0.967 (+/-0.010) for {'C': 1, 'penalty': 'l2', 'solver': 'liblinear'}\n",
      "0.969 (+/-0.023) for {'C': 1, 'penalty': 'l2', 'solver': 'sag'}\n",
      "0.969 (+/-0.023) for {'C': 1, 'penalty': 'l2', 'solver': 'saga'}\n",
      "0.969 (+/-0.023) for {'C': 1, 'penalty': 'l2', 'solver': 'newton-cg'}\n",
      "nan (+/-nan) for {'C': 10, 'penalty': 'l1', 'solver': 'lbfgs'}\n",
      "0.974 (+/-0.031) for {'C': 10, 'penalty': 'l1', 'solver': 'liblinear'}\n",
      "nan (+/-nan) for {'C': 10, 'penalty': 'l1', 'solver': 'sag'}\n",
      "0.979 (+/-0.031) for {'C': 10, 'penalty': 'l1', 'solver': 'saga'}\n",
      "nan (+/-nan) for {'C': 10, 'penalty': 'l1', 'solver': 'newton-cg'}\n",
      "0.976 (+/-0.024) for {'C': 10, 'penalty': 'l2', 'solver': 'lbfgs'}\n",
      "0.979 (+/-0.017) for {'C': 10, 'penalty': 'l2', 'solver': 'liblinear'}\n",
      "0.976 (+/-0.024) for {'C': 10, 'penalty': 'l2', 'solver': 'sag'}\n",
      "0.976 (+/-0.024) for {'C': 10, 'penalty': 'l2', 'solver': 'saga'}\n",
      "0.976 (+/-0.024) for {'C': 10, 'penalty': 'l2', 'solver': 'newton-cg'}\n",
      "nan (+/-nan) for {'C': 100, 'penalty': 'l1', 'solver': 'lbfgs'}\n",
      "0.965 (+/-0.047) for {'C': 100, 'penalty': 'l1', 'solver': 'liblinear'}\n",
      "nan (+/-nan) for {'C': 100, 'penalty': 'l1', 'solver': 'sag'}\n",
      "0.978 (+/-0.027) for {'C': 100, 'penalty': 'l1', 'solver': 'saga'}\n",
      "nan (+/-nan) for {'C': 100, 'penalty': 'l1', 'solver': 'newton-cg'}\n",
      "0.972 (+/-0.038) for {'C': 100, 'penalty': 'l2', 'solver': 'lbfgs'}\n",
      "0.976 (+/-0.037) for {'C': 100, 'penalty': 'l2', 'solver': 'liblinear'}\n",
      "0.979 (+/-0.031) for {'C': 100, 'penalty': 'l2', 'solver': 'sag'}\n",
      "0.978 (+/-0.027) for {'C': 100, 'penalty': 'l2', 'solver': 'saga'}\n",
      "0.972 (+/-0.038) for {'C': 100, 'penalty': 'l2', 'solver': 'newton-cg'}\n",
      "\n",
      "Detailed classification report:\n",
      "\n",
      "The model is trained on the full development set.\n",
      "The scores are computed on the full evaluation set.\n",
      "\n",
      "              precision    recall  f1-score   support\n",
      "\n",
      "           0       0.97      0.99      0.98        71\n",
      "           1       0.98      0.95      0.96        43\n",
      "\n",
      "    accuracy                           0.97       114\n",
      "   macro avg       0.97      0.97      0.97       114\n",
      "weighted avg       0.97      0.97      0.97       114\n",
      "\n",
      "\n",
      "# Tuning hyper-parameters for recall\n",
      "\n",
      "Best parameters set found on development set:\n",
      "\n",
      "{'C': 10, 'penalty': 'l1', 'solver': 'saga'}\n",
      "\n",
      "Grid scores on development set:\n",
      "\n",
      "nan (+/-nan) for {'C': 0.001, 'penalty': 'l1', 'solver': 'lbfgs'}\n",
      "0.500 (+/-0.000) for {'C': 0.001, 'penalty': 'l1', 'solver': 'liblinear'}\n",
      "nan (+/-nan) for {'C': 0.001, 'penalty': 'l1', 'solver': 'sag'}\n",
      "0.500 (+/-0.000) for {'C': 0.001, 'penalty': 'l1', 'solver': 'saga'}\n",
      "nan (+/-nan) for {'C': 0.001, 'penalty': 'l1', 'solver': 'newton-cg'}\n",
      "0.500 (+/-0.000) for {'C': 0.001, 'penalty': 'l2', 'solver': 'lbfgs'}\n",
      "0.577 (+/-0.035) for {'C': 0.001, 'penalty': 'l2', 'solver': 'liblinear'}\n",
      "0.500 (+/-0.000) for {'C': 0.001, 'penalty': 'l2', 'solver': 'sag'}\n",
      "0.500 (+/-0.000) for {'C': 0.001, 'penalty': 'l2', 'solver': 'saga'}\n",
      "0.500 (+/-0.000) for {'C': 0.001, 'penalty': 'l2', 'solver': 'newton-cg'}\n",
      "nan (+/-nan) for {'C': 0.01, 'penalty': 'l1', 'solver': 'lbfgs'}\n",
      "0.500 (+/-0.000) for {'C': 0.01, 'penalty': 'l1', 'solver': 'liblinear'}\n",
      "nan (+/-nan) for {'C': 0.01, 'penalty': 'l1', 'solver': 'sag'}\n",
      "0.500 (+/-0.000) for {'C': 0.01, 'penalty': 'l1', 'solver': 'saga'}\n",
      "nan (+/-nan) for {'C': 0.01, 'penalty': 'l1', 'solver': 'newton-cg'}\n",
      "0.622 (+/-0.073) for {'C': 0.01, 'penalty': 'l2', 'solver': 'lbfgs'}\n",
      "0.821 (+/-0.087) for {'C': 0.01, 'penalty': 'l2', 'solver': 'liblinear'}\n",
      "0.622 (+/-0.073) for {'C': 0.01, 'penalty': 'l2', 'solver': 'sag'}\n",
      "0.622 (+/-0.073) for {'C': 0.01, 'penalty': 'l2', 'solver': 'saga'}\n",
      "0.622 (+/-0.073) for {'C': 0.01, 'penalty': 'l2', 'solver': 'newton-cg'}\n",
      "nan (+/-nan) for {'C': 0.05, 'penalty': 'l1', 'solver': 'lbfgs'}\n",
      "0.571 (+/-0.071) for {'C': 0.05, 'penalty': 'l1', 'solver': 'liblinear'}\n",
      "nan (+/-nan) for {'C': 0.05, 'penalty': 'l1', 'solver': 'sag'}\n",
      "0.762 (+/-0.057) for {'C': 0.05, 'penalty': 'l1', 'solver': 'saga'}\n",
      "nan (+/-nan) for {'C': 0.05, 'penalty': 'l1', 'solver': 'newton-cg'}\n",
      "0.880 (+/-0.050) for {'C': 0.05, 'penalty': 'l2', 'solver': 'lbfgs'}\n",
      "0.884 (+/-0.066) for {'C': 0.05, 'penalty': 'l2', 'solver': 'liblinear'}\n",
      "0.880 (+/-0.050) for {'C': 0.05, 'penalty': 'l2', 'solver': 'sag'}\n",
      "0.880 (+/-0.050) for {'C': 0.05, 'penalty': 'l2', 'solver': 'saga'}\n",
      "0.880 (+/-0.050) for {'C': 0.05, 'penalty': 'l2', 'solver': 'newton-cg'}\n",
      "nan (+/-nan) for {'C': 0.1, 'penalty': 'l1', 'solver': 'lbfgs'}\n",
      "0.901 (+/-0.051) for {'C': 0.1, 'penalty': 'l1', 'solver': 'liblinear'}\n",
      "nan (+/-nan) for {'C': 0.1, 'penalty': 'l1', 'solver': 'sag'}\n",
      "0.903 (+/-0.049) for {'C': 0.1, 'penalty': 'l1', 'solver': 'saga'}\n",
      "nan (+/-nan) for {'C': 0.1, 'penalty': 'l1', 'solver': 'newton-cg'}\n",
      "0.904 (+/-0.049) for {'C': 0.1, 'penalty': 'l2', 'solver': 'lbfgs'}\n",
      "0.904 (+/-0.055) for {'C': 0.1, 'penalty': 'l2', 'solver': 'liblinear'}\n",
      "0.904 (+/-0.049) for {'C': 0.1, 'penalty': 'l2', 'solver': 'sag'}\n",
      "0.904 (+/-0.049) for {'C': 0.1, 'penalty': 'l2', 'solver': 'saga'}\n",
      "0.904 (+/-0.049) for {'C': 0.1, 'penalty': 'l2', 'solver': 'newton-cg'}\n",
      "nan (+/-nan) for {'C': 0.05, 'penalty': 'l1', 'solver': 'lbfgs'}\n",
      "0.571 (+/-0.071) for {'C': 0.05, 'penalty': 'l1', 'solver': 'liblinear'}\n",
      "nan (+/-nan) for {'C': 0.05, 'penalty': 'l1', 'solver': 'sag'}\n",
      "0.762 (+/-0.057) for {'C': 0.05, 'penalty': 'l1', 'solver': 'saga'}\n",
      "nan (+/-nan) for {'C': 0.05, 'penalty': 'l1', 'solver': 'newton-cg'}\n",
      "0.880 (+/-0.050) for {'C': 0.05, 'penalty': 'l2', 'solver': 'lbfgs'}\n",
      "0.884 (+/-0.066) for {'C': 0.05, 'penalty': 'l2', 'solver': 'liblinear'}\n",
      "0.880 (+/-0.050) for {'C': 0.05, 'penalty': 'l2', 'solver': 'sag'}\n",
      "0.880 (+/-0.050) for {'C': 0.05, 'penalty': 'l2', 'solver': 'saga'}\n",
      "0.880 (+/-0.050) for {'C': 0.05, 'penalty': 'l2', 'solver': 'newton-cg'}\n",
      "nan (+/-nan) for {'C': 1, 'penalty': 'l1', 'solver': 'lbfgs'}\n",
      "0.960 (+/-0.044) for {'C': 1, 'penalty': 'l1', 'solver': 'liblinear'}\n",
      "nan (+/-nan) for {'C': 1, 'penalty': 'l1', 'solver': 'sag'}\n",
      "0.955 (+/-0.037) for {'C': 1, 'penalty': 'l1', 'solver': 'saga'}\n",
      "nan (+/-nan) for {'C': 1, 'penalty': 'l1', 'solver': 'newton-cg'}\n",
      "0.948 (+/-0.045) for {'C': 1, 'penalty': 'l2', 'solver': 'lbfgs'}\n",
      "0.949 (+/-0.017) for {'C': 1, 'penalty': 'l2', 'solver': 'liblinear'}\n",
      "0.948 (+/-0.045) for {'C': 1, 'penalty': 'l2', 'solver': 'sag'}\n",
      "0.948 (+/-0.045) for {'C': 1, 'penalty': 'l2', 'solver': 'saga'}\n",
      "0.948 (+/-0.045) for {'C': 1, 'penalty': 'l2', 'solver': 'newton-cg'}\n",
      "nan (+/-nan) for {'C': 10, 'penalty': 'l1', 'solver': 'lbfgs'}\n",
      "0.969 (+/-0.035) for {'C': 10, 'penalty': 'l1', 'solver': 'liblinear'}\n",
      "nan (+/-nan) for {'C': 10, 'penalty': 'l1', 'solver': 'sag'}\n",
      "0.974 (+/-0.037) for {'C': 10, 'penalty': 'l1', 'solver': 'saga'}\n",
      "nan (+/-nan) for {'C': 10, 'penalty': 'l1', 'solver': 'newton-cg'}\n",
      "0.968 (+/-0.027) for {'C': 10, 'penalty': 'l2', 'solver': 'lbfgs'}\n",
      "0.970 (+/-0.030) for {'C': 10, 'penalty': 'l2', 'solver': 'liblinear'}\n",
      "0.968 (+/-0.027) for {'C': 10, 'penalty': 'l2', 'solver': 'sag'}\n",
      "0.968 (+/-0.027) for {'C': 10, 'penalty': 'l2', 'solver': 'saga'}\n",
      "0.968 (+/-0.027) for {'C': 10, 'penalty': 'l2', 'solver': 'newton-cg'}\n",
      "nan (+/-nan) for {'C': 100, 'penalty': 'l1', 'solver': 'lbfgs'}\n",
      "0.960 (+/-0.046) for {'C': 100, 'penalty': 'l1', 'solver': 'liblinear'}\n",
      "nan (+/-nan) for {'C': 100, 'penalty': 'l1', 'solver': 'sag'}\n",
      "0.971 (+/-0.031) for {'C': 100, 'penalty': 'l1', 'solver': 'saga'}\n",
      "nan (+/-nan) for {'C': 100, 'penalty': 'l1', 'solver': 'newton-cg'}\n",
      "0.968 (+/-0.047) for {'C': 100, 'penalty': 'l2', 'solver': 'lbfgs'}\n",
      "0.972 (+/-0.040) for {'C': 100, 'penalty': 'l2', 'solver': 'liblinear'}\n",
      "0.974 (+/-0.037) for {'C': 100, 'penalty': 'l2', 'solver': 'sag'}\n",
      "0.971 (+/-0.031) for {'C': 100, 'penalty': 'l2', 'solver': 'saga'}\n",
      "0.968 (+/-0.047) for {'C': 100, 'penalty': 'l2', 'solver': 'newton-cg'}\n",
      "\n",
      "Detailed classification report:\n",
      "\n",
      "The model is trained on the full development set.\n",
      "The scores are computed on the full evaluation set.\n",
      "\n",
      "              precision    recall  f1-score   support\n",
      "\n",
      "           0       0.97      0.99      0.98        71\n",
      "           1       0.98      0.95      0.96        43\n",
      "\n",
      "    accuracy                           0.97       114\n",
      "   macro avg       0.97      0.97      0.97       114\n",
      "weighted avg       0.97      0.97      0.97       114\n",
      "\n",
      "\n"
     ]
    }
   ],
   "source": [
    "scores = ['precision', 'recall']\n",
    "for score in scores:\n",
    "    print(\"# Tuning hyper-parameters for %s\" % score)\n",
    "    print()\n",
    "\n",
    "    clf = GridSearchCV(log, parameters, cv=5, scoring='%s_macro' % score)\n",
    "    clf.fit(X_train, y_train)\n",
    "    print(\"Best parameters set found on development set:\")\n",
    "    print()\n",
    "    print(clf.best_params_)\n",
    "    print()\n",
    "    print(\"Grid scores on development set:\")\n",
    "    print()\n",
    "    means = clf.cv_results_['mean_test_score']\n",
    "    stds = clf.cv_results_['std_test_score']\n",
    "    for mean, std, params in zip(means, stds, clf.cv_results_['params']):\n",
    "        print(\"%0.3f (+/-%0.03f) for %r\"\n",
    "              % (mean, std * 2, params))\n",
    "    print()\n",
    "\n",
    "    print(\"Detailed classification report:\")\n",
    "    print()\n",
    "    print(\"The model is trained on the full development set.\")\n",
    "    print(\"The scores are computed on the full evaluation set.\")\n",
    "    print()\n",
    "    y_true, y_pred = y_test, clf.predict(X_test)\n",
    "    print(classification_report(y_true, y_pred))\n",
    "    print()"
   ]
  },
  {
   "cell_type": "markdown",
   "metadata": {},
   "source": [
    "It is observed from above GridSearchCV hyper-parameter tuning the best parameters available for Logistic Regression are:\n",
    "    {'C': 10, 'penalty': 'l1', 'solver': 'saga'}. "
   ]
  },
  {
   "cell_type": "markdown",
   "metadata": {},
   "source": [
    "Plotting the performance of Logistic Regression model on various C inputs to understand the overfitting threshold and \n",
    "selecting the best value for hyper-perameter. \n",
    "\n",
    "F_score for malignant class is 0.96 and f1_score for benign is 0.98 from the logistic regression model."
   ]
  },
  {
   "cell_type": "markdown",
   "metadata": {},
   "source": [
    "#### Inverse of regularization strength(C) vs Recall, f_score and AUC Score Curve"
   ]
  },
  {
   "cell_type": "code",
   "execution_count": 16,
   "metadata": {},
   "outputs": [
    {
     "data": {
      "image/png": "[encoded data removed]",
      "text/plain": [
       "<Figure size 432x288 with 1 Axes>"
      ]
     },
     "metadata": {
      "needs_background": "light"
     },
     "output_type": "display_data"
    }
   ],
   "source": [
    "import matplotlib.pyplot as plt\n",
    "C = [0.001, 0.01, 0.1, 1, 10, 100]\n",
    "train_f_score = []\n",
    "test_f_score = []\n",
    "for i in C:\n",
    "    clf = LogisticRegression(C=i, penalty='l1', random_state=42, solver='saga')\n",
    "    clf.fit(X_train, y_train)\n",
    "    train_f_score.append(f1_score(y_train, clf.predict(X_train)))\n",
    "    test_f_score.append(f1_score(y_test, clf.predict(X_test)))\n",
    "    #print(classification_report(y_test, clf.predict(X_test_N)))\n",
    "plt.plot(C, train_f_score, label = 'train')\n",
    "plt.plot(C,test_f_score, label = 'test')\n",
    "plt.axis([-5,105,0.9,1])\n",
    "plt.xlabel('inverse of regularization strength(C)')\n",
    "plt.ylabel('F Score')\n",
    "plt.legend()\n",
    "plt.show()"
   ]
  },
  {
   "cell_type": "code",
   "execution_count": 17,
   "metadata": {},
   "outputs": [
    {
     "data": {
      "image/png": "[encoded data removed]",
      "text/plain": [
       "<Figure size 432x288 with 1 Axes>"
      ]
     },
     "metadata": {
      "needs_background": "light"
     },
     "output_type": "display_data"
    }
   ],
   "source": [
    "import matplotlib.pyplot as plt\n",
    "C = [0.001, 0.01, 0.1, 1, 10, 100]\n",
    "train_recall_score = []\n",
    "test_recall_score = []\n",
    "for i in C:\n",
    "    clf = LogisticRegression(C=i, penalty='l1', random_state=42, solver='saga')\n",
    "    clf.fit(X_train, y_train)\n",
    "    train_recall_score.append(recall_score(y_train, clf.predict(X_train)))\n",
    "    test_recall_score.append(recall_score(y_test, clf.predict(X_test)))\n",
    "    #print(classification_report(y_test, clf.predict(X_test_N)))\n",
    "plt.plot(C, train_recall_score, label = 'train')\n",
    "plt.plot(C,test_recall_score, label = 'test')\n",
    "plt.axis([-5,105,0.9,1])\n",
    "plt.xlabel('inverse of regularization strength(C)')\n",
    "plt.ylabel('Recall')\n",
    "plt.legend()\n",
    "plt.show()"
   ]
  },
  {
   "cell_type": "code",
   "execution_count": 18,
   "metadata": {},
   "outputs": [
    {
     "data": {
      "image/png": "[encoded data removed]",
      "text/plain": [
       "<Figure size 432x288 with 1 Axes>"
      ]
     },
     "metadata": {
      "needs_background": "light"
     },
     "output_type": "display_data"
    }
   ],
   "source": [
    "import matplotlib.pyplot as plt\n",
    "from sklearn.metrics import recall_score, roc_auc_score\n",
    "C = [0.001, 0.01, 0.1, 1, 10, 100]\n",
    "train_auc_score = []\n",
    "test_auc_score = []\n",
    "for i in C:\n",
    "    clf = LogisticRegression(C=i, penalty='l1', random_state=42, solver='saga')\n",
    "    clf.fit(X_train, y_train)\n",
    "    train_auc_score.append(roc_auc_score(y_train, clf.predict(X_train)))\n",
    "    test_auc_score.append(roc_auc_score(y_test, clf.predict(X_test)))\n",
    "    #print(classification_report(y_test, clf.predict(X_test_N)))\n",
    "plt.plot(C, test_auc_score, label = 'test')\n",
    "plt.plot(C, train_auc_score, label = 'train')\n",
    "plt.xlabel('inverse of regularization strength(C)')\n",
    "plt.ylabel('AUC ROC Score')\n",
    "plt.axis([-5,105,0.9,1])\n",
    "plt.legend()\n",
    "plt.show()"
   ]
  },
  {
   "cell_type": "markdown",
   "metadata": {},
   "source": [
    "From the f_score, recall and AUC curve, we can see that the model performance on testing is improving until C = 10 \n",
    "beyond which there is no improvement, hence to avoid model overfitting, the C value is taken as 10. "
   ]
  },
  {
   "cell_type": "markdown",
   "metadata": {},
   "source": [
    "## Final Logistic Regression Model "
   ]
  },
  {
   "cell_type": "code",
   "execution_count": 19,
   "metadata": {},
   "outputs": [],
   "source": [
    "log_final = LogisticRegression(C=10, penalty='l1', random_state=42, solver='saga')\n",
    "log_final.fit(X_train, y_train)\n",
    "\n",
    "best_train = log_final.predict(X_train)\n",
    "best_test = log_final.predict(X_test)"
   ]
  },
  {
   "cell_type": "markdown",
   "metadata": {},
   "source": [
    "### Lift Curve, ROC Curve and Cumulative Gains Curve "
   ]
  },
  {
   "cell_type": "code",
   "execution_count": 20,
   "metadata": {},
   "outputs": [
    {
     "name": "stdout",
     "output_type": "stream",
     "text": [
      "The AUC score is  0.9697019325253848\n"
     ]
    },
    {
     "data": {
      "image/png": "[encoded data removed]",
      "text/plain": [
       "<Figure size 432x288 with 1 Axes>"
      ]
     },
     "metadata": {
      "needs_background": "light"
     },
     "output_type": "display_data"
    }
   ],
   "source": [
    "from sklearn.metrics import plot_roc_curve\n",
    "print(\"The AUC score is \", roc_auc_score(y_test, log_final.predict(X_test)))\n",
    "plot_roc_curve(log_final, X_test, y_test)\n",
    "plt.show()"
   ]
  },
  {
   "cell_type": "code",
   "execution_count": 21,
   "metadata": {},
   "outputs": [
    {
     "data": {
      "image/png": "[encoded data removed]",
      "text/plain": [
       "<Figure size 432x288 with 1 Axes>"
      ]
     },
     "metadata": {
      "needs_background": "light"
     },
     "output_type": "display_data"
    },
    {
     "data": {
      "image/png": "[encoded data removed]",
      "text/plain": [
       "<Figure size 432x288 with 1 Axes>"
      ]
     },
     "metadata": {
      "needs_background": "light"
     },
     "output_type": "display_data"
    },
    {
     "data": {
      "image/png": "[encoded data removed]",
      "text/plain": [
       "<Figure size 432x288 with 1 Axes>"
      ]
     },
     "metadata": {
      "needs_background": "light"
     },
     "output_type": "display_data"
    }
   ],
   "source": [
    "import scikitplot as skplt\n",
    "skplt.metrics.plot_roc(y_test, log_final.predict_proba(X_test), plot_micro =False, plot_macro = False)\n",
    "skplt.metrics.plot_cumulative_gain(y_test, log_final.predict_proba(X_test))\n",
    "skplt.metrics.plot_lift_curve(y_test, log_final.predict_proba(X_test))\n",
    "plt.show()"
   ]
  },
  {
   "cell_type": "code",
   "execution_count": 22,
   "metadata": {},
   "outputs": [
    {
     "data": {
      "text/plain": [
       "0.9697019325253848"
      ]
     },
     "execution_count": 22,
     "metadata": {},
     "output_type": "execute_result"
    }
   ],
   "source": [
    "roc_auc_score(y_test, log_final.predict(X_test))"
   ]
  },
  {
   "cell_type": "markdown",
   "metadata": {},
   "source": [
    "## Interpreting the ROC, AUC and Lift Curve"
   ]
  },
  {
   "cell_type": "markdown",
   "metadata": {},
   "source": [
    "ROC Curve - From the ROC Curve, we obtained area under the curve value of 0.9697 which measures the probability that a randomly chosen malignant instance will have a higher predicted probability of being malignant by the model than a randomly chosen benign instance.\n",
    "\n",
    "Lift Curve - The lift ratio indicates how better the model performs compared to a random guess.For Malignant classification (Class 1), at 30% of sample, the lift ratio is approximately 2.65 meaning that model's top 30% predictions are 2.65X as good at predicting the outcome than as random guess. For Benign classification (Class 0), at 30% of sample, the lift ratio is approximately 1.60 meaning that model's top 30% predictions are 1.60X as good at predicting the outcome than as random guess."
   ]
  },
  {
   "cell_type": "code",
   "execution_count": 23,
   "metadata": {},
   "outputs": [
    {
     "name": "stdout",
     "output_type": "stream",
     "text": [
      "The training F1 Score is 0.9879518072289156\n",
      "The testing F1 Score is 0.9761904761904762\n",
      "\n",
      "\n",
      "--------------------------------------------------\n"
     ]
    },
    {
     "data": {
      "image/png": "[encoded data removed]",
      "text/plain": [
       "<Figure size 432x288 with 2 Axes>"
      ]
     },
     "metadata": {
      "needs_background": "light"
     },
     "output_type": "display_data"
    },
    {
     "name": "stdout",
     "output_type": "stream",
     "text": [
      "--------------------------------------------------\n",
      "              precision    recall  f1-score   support\n",
      "\n",
      "           0       0.97      0.99      0.98        71\n",
      "           1       0.98      0.95      0.96        43\n",
      "\n",
      "    accuracy                           0.97       114\n",
      "   macro avg       0.97      0.97      0.97       114\n",
      "weighted avg       0.97      0.97      0.97       114\n",
      "\n"
     ]
    }
   ],
   "source": [
    "# Calculate the f1_score of the new model.\n",
    "print('The training F1 Score is', recall_score(best_train, y_train))\n",
    "print('The testing F1 Score is', recall_score(best_test, y_test))\n",
    "print('\\n')\n",
    "print(\"--------------------------------------------------\")\n",
    "\n",
    "from sklearn.metrics import plot_confusion_matrix\n",
    "plot_confusion_matrix(log_final, X_test, y_test)\n",
    "plt.show()\n",
    "\n",
    "print(\"--------------------------------------------------\")\n",
    "print(classification_report(y_test, log_final.predict(X_test)))"
   ]
  },
  {
   "cell_type": "markdown",
   "metadata": {},
   "source": [
    "### With F_Score as Performance Evaluation Metric "
   ]
  },
  {
   "cell_type": "code",
   "execution_count": 24,
   "metadata": {},
   "outputs": [],
   "source": [
    "scorer = make_scorer(f1_score)\n",
    "dt_cv_score = []\n",
    "knn_cv_score = []\n",
    "log_cv_score = []\n",
    "svc_cv_score = []\n",
    "\n",
    "N_TRIALS = 10\n",
    "for i in range(N_TRIALS):\n",
    "    inner_cv=KFold(n_splits=5,shuffle=True,random_state=100)\n",
    "    outer_cv=KFold(n_splits=5,shuffle=True,random_state=100)\n",
    "    dt = DecisionTreeClassifier(random_state=42)\n",
    "    dt_grid = {'max_depth':list(range(0,10)),'min_samples_leaf':[2, 3, 4], 'min_samples_split':[10, 20, 30], \n",
    "                 'criterion':['entropy','gini']}\n",
    "\n",
    "    knn = KNeighborsClassifier()\n",
    "    knn_grid = {'n_neighbors':list(range(2,8)), 'p':[1,2,3], 'weights':['uniform','distance']}\n",
    "    \n",
    "    log = LogisticRegression(random_state=42, multi_class = 'multinomial')\n",
    "    lr_grid = {'C': [0.001, 0.01, 0.05, 0.1,0.05, 1, 10, 100], 'penalty' : ['l1','l2'],'solver': ['lbfgs','liblinear','sag','saga','newton-cg']}\n",
    "\n",
    "    svc = SVC(random_state = 42, probability=True)\n",
    "    svc_grid = [{'kernel': ['rbf'], 'gamma': [0.1, 0.5],'C': [1, 10, 100, 1000]}, \n",
    "              {'kernel': ['linear'], 'C': [1, 10, 100, 1000]}]\n",
    "\n",
    "    dt_clf = GridSearchCV(estimator = dt, param_grid = dt_grid, cv = inner_cv, scoring = scorer)\n",
    "    knn_clf = GridSearchCV(estimator = knn, param_grid = knn_grid, cv = inner_cv, scoring = scorer)\n",
    "    svc_clf = GridSearchCV(estimator = svc, param_grid = svc_grid, cv=inner_cv, scoring = scorer)\n",
    "    lr_clf = GridSearchCV(estimator = log, param_grid = lr_grid, cv = inner_cv, scoring = scorer)\n",
    "    \n",
    "    dt_score=cross_val_score(dt_clf,X_train,y_train, cv = outer_cv)\n",
    "    dt_score = dt_score.mean()\n",
    "    dt_cv_score.append(dt_score.mean())    \n",
    "\n",
    "    knn_score=cross_val_score(knn_clf,X_train,y_train, cv = outer_cv)\n",
    "    knn_score = knn_score.mean()\n",
    "    knn_cv_score.append(knn_score.mean())    \n",
    "   \n",
    "    lr_score=cross_val_score(lr_clf,X_train,y_train, cv = outer_cv)\n",
    "    lr_score = lr_score.mean()\n",
    "    log_cv_score.append(lr_score.mean())\n",
    "        \n",
    "    svc_score=cross_val_score(svc_clf,X_train,y_train, cv = outer_cv)\n",
    "    svc_score = svc_score.mean()\n",
    "    svc_cv_score.append(svc_score.mean())\n",
    "        "
   ]
  },
  {
   "cell_type": "code",
   "execution_count": 26,
   "metadata": {},
   "outputs": [
    {
     "name": "stdout",
     "output_type": "stream",
     "text": [
      "Mean f_score for training data set with cross validations for decision tree:  0.9321501574081574\n",
      "Mean f_score for training data set with cross validations for KNN:  0.9679211727950012\n",
      "Mean f_score for training data set with cross validations for logistic regression:  0.9657489938027636\n",
      "Mean f_score for training data set with cross validations for SVM:  0.9718631611335911\n"
     ]
    }
   ],
   "source": [
    "dt_avg = Average(dt_cv_score)\n",
    "knn_avg = Average(knn_cv_score)\n",
    "log_avg = Average(log_cv_score)\n",
    "svc_avg = Average(svc_cv_score)\n",
    "\n",
    "print(\"Mean f_score for training data set with cross validations for decision tree: \",dt_avg)\n",
    "print(\"Mean f_score for training data set with cross validations for KNN: \",knn_avg)\n",
    "print(\"Mean f_score for training data set with cross validations for logistic regression: \",log_avg)\n",
    "print(\"Mean f_score for training data set with cross validations for SVM: \",svc_avg)"
   ]
  },
  {
   "cell_type": "markdown",
   "metadata": {},
   "source": [
    "#### It is observed that SVM performs the best from Nested CV results with f_score as the performance metric "
   ]
  },
  {
   "cell_type": "markdown",
   "metadata": {},
   "source": [
    "## Hyper-Parameter Tuning for SVC Classifier "
   ]
  },
  {
   "cell_type": "code",
   "execution_count": 27,
   "metadata": {},
   "outputs": [
    {
     "name": "stdout",
     "output_type": "stream",
     "text": [
      "# Tuning hyper-parameters for precision\n",
      "\n",
      "Best parameters set found on development set:\n",
      "\n",
      "{'C': 1, 'kernel': 'linear'}\n",
      "\n",
      "Grid scores on development set:\n",
      "\n",
      "0.964 (+/-0.022) for {'C': 1, 'gamma': 0.1, 'kernel': 'rbf'}\n",
      "0.979 (+/-0.022) for {'C': 1, 'gamma': 0.5, 'kernel': 'rbf'}\n",
      "0.977 (+/-0.029) for {'C': 10, 'gamma': 0.1, 'kernel': 'rbf'}\n",
      "0.973 (+/-0.026) for {'C': 10, 'gamma': 0.5, 'kernel': 'rbf'}\n",
      "0.972 (+/-0.034) for {'C': 100, 'gamma': 0.1, 'kernel': 'rbf'}\n",
      "0.968 (+/-0.038) for {'C': 100, 'gamma': 0.5, 'kernel': 'rbf'}\n",
      "0.966 (+/-0.035) for {'C': 1000, 'gamma': 0.1, 'kernel': 'rbf'}\n",
      "0.962 (+/-0.017) for {'C': 1000, 'gamma': 0.5, 'kernel': 'rbf'}\n",
      "0.980 (+/-0.009) for {'C': 1, 'kernel': 'linear'}\n",
      "0.979 (+/-0.020) for {'C': 10, 'kernel': 'linear'}\n",
      "0.971 (+/-0.034) for {'C': 100, 'kernel': 'linear'}\n",
      "0.958 (+/-0.045) for {'C': 1000, 'kernel': 'linear'}\n",
      "\n",
      "Detailed classification report:\n",
      "\n",
      "The model is trained on the full development set.\n",
      "The scores are computed on the full evaluation set.\n",
      "\n",
      "              precision    recall  f1-score   support\n",
      "\n",
      "           0       0.97      1.00      0.99        71\n",
      "           1       1.00      0.95      0.98        43\n",
      "\n",
      "    accuracy                           0.98       114\n",
      "   macro avg       0.99      0.98      0.98       114\n",
      "weighted avg       0.98      0.98      0.98       114\n",
      "\n",
      "\n",
      "# Tuning hyper-parameters for recall\n",
      "\n",
      "Best parameters set found on development set:\n",
      "\n",
      "{'C': 10, 'kernel': 'linear'}\n",
      "\n",
      "Grid scores on development set:\n",
      "\n",
      "0.939 (+/-0.033) for {'C': 1, 'gamma': 0.1, 'kernel': 'rbf'}\n",
      "0.966 (+/-0.046) for {'C': 1, 'gamma': 0.5, 'kernel': 'rbf'}\n",
      "0.967 (+/-0.043) for {'C': 10, 'gamma': 0.1, 'kernel': 'rbf'}\n",
      "0.962 (+/-0.045) for {'C': 10, 'gamma': 0.5, 'kernel': 'rbf'}\n",
      "0.968 (+/-0.039) for {'C': 100, 'gamma': 0.1, 'kernel': 'rbf'}\n",
      "0.967 (+/-0.034) for {'C': 100, 'gamma': 0.5, 'kernel': 'rbf'}\n",
      "0.965 (+/-0.029) for {'C': 1000, 'gamma': 0.1, 'kernel': 'rbf'}\n",
      "0.964 (+/-0.005) for {'C': 1000, 'gamma': 0.5, 'kernel': 'rbf'}\n",
      "0.969 (+/-0.026) for {'C': 1, 'kernel': 'linear'}\n",
      "0.974 (+/-0.025) for {'C': 10, 'kernel': 'linear'}\n",
      "0.969 (+/-0.034) for {'C': 100, 'kernel': 'linear'}\n",
      "0.958 (+/-0.044) for {'C': 1000, 'kernel': 'linear'}\n",
      "\n",
      "Detailed classification report:\n",
      "\n",
      "The model is trained on the full development set.\n",
      "The scores are computed on the full evaluation set.\n",
      "\n",
      "              precision    recall  f1-score   support\n",
      "\n",
      "           0       0.97      0.99      0.98        71\n",
      "           1       0.98      0.95      0.96        43\n",
      "\n",
      "    accuracy                           0.97       114\n",
      "   macro avg       0.97      0.97      0.97       114\n",
      "weighted avg       0.97      0.97      0.97       114\n",
      "\n",
      "\n"
     ]
    }
   ],
   "source": [
    "parameters = [{'kernel': ['rbf'], 'gamma': [0.1, 0.5],'C': [1, 10, 100, 1000]}, \n",
    "              {'kernel': ['linear'], 'C': [1, 10, 100, 1000]}]\n",
    "\n",
    "scores = ['precision', 'recall']\n",
    "for score in scores:\n",
    "    print(\"# Tuning hyper-parameters for %s\" % score)\n",
    "    print()\n",
    "\n",
    "    clf = GridSearchCV(SVC(), parameters, cv=5, scoring='%s_macro' % score)\n",
    "    clf.fit(X_train, y_train)\n",
    "    print(\"Best parameters set found on development set:\")\n",
    "    print()\n",
    "    print(clf.best_params_)\n",
    "    print()\n",
    "    print(\"Grid scores on development set:\")\n",
    "    print()\n",
    "    means = clf.cv_results_['mean_test_score']\n",
    "    stds = clf.cv_results_['std_test_score']\n",
    "    for mean, std, params in zip(means, stds, clf.cv_results_['params']):\n",
    "        print(\"%0.3f (+/-%0.03f) for %r\"\n",
    "              % (mean, std * 2, params))\n",
    "    print()\n",
    "\n",
    "    print(\"Detailed classification report:\")\n",
    "    print()\n",
    "    print(\"The model is trained on the full development set.\")\n",
    "    print(\"The scores are computed on the full evaluation set.\")\n",
    "    print()\n",
    "    y_true, y_pred = y_test, clf.predict(X_test)\n",
    "    print(classification_report(y_true, y_pred))\n",
    "    print()"
   ]
  },
  {
   "cell_type": "code",
   "execution_count": 28,
   "metadata": {},
   "outputs": [
    {
     "data": {
      "image/png": "[encoded data removed]",
      "text/plain": [
       "<Figure size 432x288 with 1 Axes>"
      ]
     },
     "metadata": {
      "needs_background": "light"
     },
     "output_type": "display_data"
    }
   ],
   "source": [
    "import matplotlib.pyplot as plt\n",
    "from sklearn.metrics import make_scorer, recall_score, f1_score\n",
    "C = [0.001, 0.01, 0.1, 1,2, 5, 10, 50]\n",
    "train_f_score = []\n",
    "test_f_score = []\n",
    "for i in C:\n",
    "    clf = SVC(C=i, kernel= 'linear', random_state = 42, probability=True)\n",
    "    clf.fit(X_train, y_train)\n",
    "    train_f_score.append(f1_score(y_train, clf.predict(X_train)))\n",
    "    test_f_score.append(f1_score(y_test, clf.predict(X_test)))\n",
    "plt.plot(C, train_f_score, label = 'train')\n",
    "plt.plot(C,test_f_score, label = 'test')\n",
    "plt.xlabel('C')\n",
    "plt.ylabel('F Score')\n",
    "plt.legend()\n",
    "plt.show()"
   ]
  },
  {
   "cell_type": "code",
   "execution_count": 29,
   "metadata": {},
   "outputs": [
    {
     "data": {
      "image/png": "[encoded data removed]",
      "text/plain": [
       "<Figure size 432x288 with 1 Axes>"
      ]
     },
     "metadata": {
      "needs_background": "light"
     },
     "output_type": "display_data"
    }
   ],
   "source": [
    "import matplotlib.pyplot as plt\n",
    "from sklearn.metrics import make_scorer, recall_score, f1_score\n",
    "C = [0.001, 0.01, 0.1, 1, 10, 50]\n",
    "train_recall_score = []\n",
    "test_recall_score = []\n",
    "for i in C:\n",
    "    clf = SVC(C=i, kernel = 'linear', random_state = 42, probability=True)\n",
    "    clf.fit(X_train, y_train)\n",
    "    train_recall_score.append(recall_score(y_train, clf.predict(X_train)))\n",
    "    test_recall_score.append(recall_score(y_test, clf.predict(X_test)))\n",
    "plt.plot(C, train_recall_score, label = 'train')\n",
    "plt.plot(C,test_recall_score, label = 'test')\n",
    "plt.xlabel('C')\n",
    "plt.ylabel('Recall Score')\n",
    "plt.legend()\n",
    "plt.show()"
   ]
  },
  {
   "cell_type": "code",
   "execution_count": 30,
   "metadata": {},
   "outputs": [
    {
     "data": {
      "image/png": "[encoded data removed]",
      "text/plain": [
       "<Figure size 432x288 with 1 Axes>"
      ]
     },
     "metadata": {
      "needs_background": "light"
     },
     "output_type": "display_data"
    }
   ],
   "source": [
    "import matplotlib.pyplot as plt\n",
    "from sklearn.metrics import recall_score, roc_auc_score\n",
    "from sklearn.metrics import make_scorer, recall_score, f1_score\n",
    "C = [0.001, 0.01, 0.1, 1, 2, 5, 10, 50]\n",
    "train_auc_score = []\n",
    "test_auc_score = []\n",
    "for i in C:\n",
    "    clf = SVC(C=i, kernel = 'linear', random_state = 42, probability=True)\n",
    "    clf.fit(X_train, y_train)\n",
    "    train_auc_score.append(roc_auc_score(y_train, clf.predict(X_train)))\n",
    "    test_auc_score.append(roc_auc_score(y_test, clf.predict(X_test)))\n",
    "plt.plot(C, train_auc_score, label = 'train')\n",
    "plt.plot(C, test_auc_score, label = 'test')\n",
    "plt.xlabel('C')\n",
    "plt.ylabel('AUC Score')\n",
    "plt.legend()\n",
    "plt.show()"
   ]
  },
  {
   "cell_type": "markdown",
   "metadata": {},
   "source": [
    "From the f_score, recall and AUC curve, we can see that the model performance on testing is improving until C = 1 \n",
    "beyond which there is no improvement, hence to avoid model overfitting, the C value is taken as 1. "
   ]
  },
  {
   "cell_type": "code",
   "execution_count": 31,
   "metadata": {},
   "outputs": [
    {
     "name": "stdout",
     "output_type": "stream",
     "text": [
      "              precision    recall  f1-score   support\n",
      "\n",
      "           0       0.97      1.00      0.99        71\n",
      "           1       1.00      0.95      0.98        43\n",
      "\n",
      "    accuracy                           0.98       114\n",
      "   macro avg       0.99      0.98      0.98       114\n",
      "weighted avg       0.98      0.98      0.98       114\n",
      "\n"
     ]
    }
   ],
   "source": [
    "clf_svc = SVC(C=1, kernel = 'linear', random_state = 42, probability=True)\n",
    "clf_svc.fit(X_train, y_train)\n",
    "best_train_predictions_new = clf_svc.predict(X_train)\n",
    "print(classification_report(y_test, clf_svc.predict(X_test)))"
   ]
  },
  {
   "cell_type": "markdown",
   "metadata": {},
   "source": [
    "F_score for malignant class is 0.95 and f1_score for benign is 1.0 for the Support Vector Machine Classifier. "
   ]
  },
  {
   "cell_type": "code",
   "execution_count": 32,
   "metadata": {},
   "outputs": [
    {
     "data": {
      "image/png": "[encoded data removed]",
      "text/plain": [
       "<Figure size 432x288 with 2 Axes>"
      ]
     },
     "metadata": {
      "needs_background": "light"
     },
     "output_type": "display_data"
    }
   ],
   "source": [
    "from sklearn.metrics import plot_confusion_matrix\n",
    "plot_confusion_matrix(clf_svc, X_test, y_test)\n",
    "plt.show()"
   ]
  },
  {
   "cell_type": "code",
   "execution_count": 33,
   "metadata": {},
   "outputs": [
    {
     "name": "stdout",
     "output_type": "stream",
     "text": [
      "The AUC score is  0.9767441860465116\n"
     ]
    },
    {
     "data": {
      "image/png": "[encoded data removed]",
      "text/plain": [
       "<Figure size 432x288 with 1 Axes>"
      ]
     },
     "metadata": {
      "needs_background": "light"
     },
     "output_type": "display_data"
    }
   ],
   "source": [
    "from sklearn.metrics import plot_roc_curve\n",
    "print(\"The AUC score is \", roc_auc_score(y_test, clf_svc.predict(X_test)))\n",
    "plot_roc_curve(clf_svc, X_test, y_test)\n",
    "plt.show()\n"
   ]
  },
  {
   "cell_type": "code",
   "execution_count": 34,
   "metadata": {},
   "outputs": [
    {
     "data": {
      "image/png": "[encoded data removed]",
      "text/plain": [
       "<Figure size 432x288 with 1 Axes>"
      ]
     },
     "metadata": {
      "needs_background": "light"
     },
     "output_type": "display_data"
    },
    {
     "data": {
      "image/png": "[encoded data removed]",
      "text/plain": [
       "<Figure size 432x288 with 1 Axes>"
      ]
     },
     "metadata": {
      "needs_background": "light"
     },
     "output_type": "display_data"
    },
    {
     "data": {
      "image/png": "[encoded data removed]",
      "text/plain": [
       "<Figure size 432x288 with 1 Axes>"
      ]
     },
     "metadata": {
      "needs_background": "light"
     },
     "output_type": "display_data"
    }
   ],
   "source": [
    "import scikitplot as skplt\n",
    "skplt.metrics.plot_roc(y_test, clf_svc.predict_proba(X_test), plot_micro =False, plot_macro = False)\n",
    "skplt.metrics.plot_cumulative_gain(y_test, clf_svc.predict_proba(X_test))\n",
    "skplt.metrics.plot_lift_curve(y_test, clf_svc.predict_proba(X_test))\n",
    "plt.show()"
   ]
  },
  {
   "cell_type": "code",
   "execution_count": 35,
   "metadata": {},
   "outputs": [
    {
     "data": {
      "text/plain": [
       "0.9767441860465116"
      ]
     },
     "execution_count": 35,
     "metadata": {},
     "output_type": "execute_result"
    }
   ],
   "source": [
    "roc_auc_score(y_test, clf_svc.predict(X_test))"
   ]
  },
  {
   "cell_type": "markdown",
   "metadata": {},
   "source": [
    "## Interpreting ROC Curve and Lift Curve \n",
    "\n",
    "ROC Curve - From the ROC Curve, we obtained area under the curve value of 0.9767 which measures the probability that a randomly chosen malignant instance will have a higher predicted probability of being malignant by the model than a  randomly chosen benign instance.\n",
    "\n",
    "Lift Curve - The lift ratio indicates how better the model performs compared to a random guess.For Malignant classification (Class 1), at 30% of sample, the lift ratio is approximately 2.65 meaning that model's top 30% predictions are 2.65X as good at predicting the outcome than as random guess. For Benign classification (Class 0), at 30% of sample, the lift ratio is approximately 1.60 meaning that model's top 30% predictions are 1.60X as good at predicting the outcome than as random guess."
   ]
  },
  {
   "cell_type": "markdown",
   "metadata": {},
   "source": [
    "### Conclusion:"
   ]
  },
  {
   "cell_type": "markdown",
   "metadata": {},
   "source": [
    "It has been observed from the above analysis that best model performance depends on performance evaluation metric and changing the evaluation metric also changes the best model choice. Both recall and f_score have been used seperately as performance metrics to get model choice for each of the evaluation metrics and nested cross validation was leveraged for model selection. The findings are summarized below:\n",
    "\n",
    "    Recall as the performance Metric:\n",
    "        - Logistic Regression performs the best out of all 4 models with the below results:\n",
    "        \n",
    "         --------------------------------------------------\n",
    "                  precision    recall  f1-score   support\n",
    "\n",
    "           0       0.97      0.99      0.98        71\n",
    "           1       0.98      0.95      0.96        43\n",
    "        \n",
    "        \n",
    "    F_score as the performance Metric:\n",
    "        - SVC performs the best out of all 4 models with the below results:\n",
    "        \n",
    "        --------------------------------------------------\n",
    "                precision    recall  f1-score   support\n",
    "\n",
    "           0       0.97      1.00      0.99        71\n",
    "           1       1.00      0.95      0.98        43\n",
    "        "
   ]
  },
  {
   "cell_type": "code",
   "execution_count": null,
   "metadata": {},
   "outputs": [],
   "source": []
  }
 ],
 "metadata": {
  "kernelspec": {
   "display_name": "Python 3",
   "language": "python",
   "name": "python3"
  },
  "language_info": {
   "codemirror_mode": {
    "name": "ipython",
    "version": 3
   },
   "file_extension": ".py",
   "mimetype": "text/x-python",
   "name": "python",
   "nbconvert_exporter": "python",
   "pygments_lexer": "ipython3",
   "version": "3.7.4"
  }
 },
 "nbformat": 4,
 "nbformat_minor": 2
}
